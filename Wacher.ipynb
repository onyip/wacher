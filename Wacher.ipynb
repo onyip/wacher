{
  "nbformat": 4,
  "nbformat_minor": 0,
  "metadata": {
    "colab": {
      "private_outputs": true,
      "provenance": [],
      "collapsed_sections": [],
      "machine_shape": "hm"
    },
    "kernelspec": {
      "name": "python3",
      "display_name": "Python 3"
    },
    "accelerator": "TPU"
  },
  "cells": [
    {
      "cell_type": "markdown",
      "metadata": {
        "id": "9LZsXRO1V-fu"
      },
      "source": [
        "# **Welcome To Wacher Project**\n",
        "script created by **OGdangID**\n",
        "\n",
        "how to use \n",
        "\n",
        "✅ enter total viewer you need\n",
        "\n",
        "Note : only work on intel cpu\n",
        "\n",
        "\n",
        "Telegram : [@OGdangID](https://t.me/OGdangID)\n",
        "\n",
        "\n",
        "\n",
        "\n",
        "\n"
      ]
    },
    {
      "cell_type": "code",
      "metadata": {
        "cellView": "form",
        "id": "k5kSrJAQoJN0"
      },
      "source": [
        "#@title **Ndelok**\n",
        "import datetime\n",
        "from IPython.display import clear_output\n",
        "clear_output()\n",
        "!lscpu"
      ],
      "execution_count": null,
      "outputs": []
    },
    {
      "cell_type": "code",
      "execution_count": null,
      "metadata": {
        "cellView": "form",
        "id": "S7TB8p5_Hrrp"
      },
      "outputs": [],
      "source": [
        "#@title **Run Wacher**\n",
        "#@markdown Enter total of viewer to run\n",
        "Total = 30 #@param {type: \"integer\"}\n",
        "cmd = f'\"git clone https://github.com/onyip/wacher.git && cd wacher && chmod +x chromedriver && python3 main.py {Total}\"'\n",
        "!useradd -m og\n",
        "!adduser og sudo\n",
        "!echo 'og:y' | sudo chpasswd\n",
        "!sed -i 's/\\/bin\\/sh/\\/bin\\/bash/g' /etc/passwd\n",
        "!pip install selenium\n",
        "!pip install pyvirtualdisplay\n",
        "!wget https://dl.google.com/linux/direct/google-chrome-stable_current_amd64.deb\n",
        "!dpkg --install google-chrome-stable_current_amd64.deb\n",
        "!apt install --assume-yes --fix-broken\n",
        "!apt-get install x11-utils\n",
        "!sudo apt-get install xvfb\n",
        "!xvfb :99 -ac &\n",
        "!export DISPLAY=:99   \n",
        "!su - og -c $cmd"
      ]
    }
  ]
}